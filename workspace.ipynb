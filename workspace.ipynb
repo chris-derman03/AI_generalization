{
 "cells": [
  {
   "cell_type": "code",
   "execution_count": 1,
   "id": "3b8395ef",
   "metadata": {},
   "outputs": [],
   "source": [
    "import numpy as np\n",
    "import pandas as pd\n",
    "import torch\n",
    "import torch.nn as nn\n",
    "from sklearn.model_selection import train_test_split\n",
    "from sklearn.preprocessing import StandardScaler\n",
    "import time"
   ]
  },
  {
   "cell_type": "markdown",
   "id": "02e5c141",
   "metadata": {},
   "source": [
    "# Clean Up Data"
   ]
  },
  {
   "cell_type": "code",
   "execution_count": 2,
   "id": "04fc50ba",
   "metadata": {},
   "outputs": [],
   "source": [
    "data = pd.read_csv(\"osteoporosis.csv\").drop(columns=[\"Id\", \"Osteoporosis\"])\n",
    "\n",
    "data[\"Female\"] = data[\"Gender\"].apply(lambda x: 1 if x==\"Female\" else 0)\n",
    "data = data.drop(columns=[\"Gender\"])\n",
    "\n",
    "data[\"Postmenopausal_hormonal_changes\"] = data[\"Hormonal Changes\"].apply(lambda x: 1 if x==\"Postmenopausal\" else 0)\n",
    "data = data.drop(columns=[\"Hormonal Changes\"])\n",
    "\n",
    "data[\"Family_history_osteoporosis\"] = data[\"Family History\"].apply(lambda x: 1 if x==\"Yes\" else 0)\n",
    "data = data.drop(columns=[\"Family History\"])\n",
    "\n",
    "data[\"Underweight\"] = data[\"Body Weight\"].apply(lambda x: 1 if x==\"Underweight\" else 0)\n",
    "data = data.drop(columns=[\"Body Weight\"])\n",
    "\n",
    "data[\"Low_calcium_intake\"] = data[\"Calcium Intake\"].apply(lambda x: 1 if x==\"Low\" else 0)\n",
    "data = data.drop(columns=[\"Calcium Intake\"])\n",
    "\n",
    "data[\"Insufficient_vitamin_d\"] = data[\"Vitamin D Intake\"].apply(lambda x: 1 if x==\"Insufficient\" else 0)\n",
    "data = data.drop(columns=[\"Vitamin D Intake\"])\n",
    "\n",
    "data[\"Physically_active\"] = data[\"Physical Activity\"].apply(lambda x: 1 if x==\"Active\" else 0)\n",
    "data = data.drop(columns=[\"Physical Activity\"])\n",
    "\n",
    "data[\"Smoke\"] = data[\"Smoking\"].apply(lambda x: 1 if x==\"Yes\" else 0)\n",
    "data = data.drop(columns=[\"Smoking\"])\n",
    "\n",
    "data[\"Moderate_alcohol_consumption\"] = data[\"Alcohol Consumption\"].apply(lambda x: 1 if x==\"Moderate\" else 0)\n",
    "data = data.drop(columns=[\"Alcohol Consumption\"])\n",
    "\n",
    "data[\"Corticosteroids\"] = data[\"Medications\"].apply(lambda x: 1 if x==\"Corticosteroids\" else 0)\n",
    "data = data.drop(columns=[\"Medications\"])\n",
    "\n",
    "data[\"Prior_fractures\"] = data[\"Prior Fractures\"].apply(lambda x: 1 if x==\"Yes\" else 0)\n",
    "data = data.drop(columns=[\"Prior Fractures\"])\n",
    "\n",
    "data[\"Asian\"] = data[\"Race/Ethnicity\"].apply(lambda x: 1 if x==\"Asian\" else 0)\n",
    "data[\"Caucasian\"] = data[\"Race/Ethnicity\"].apply(lambda x: 1 if x==\"Caucasian\" else 0)\n",
    "data[\"African_american\"] = data[\"Race/Ethnicity\"].apply(lambda x: 1 if x==\"African American\" else 0)\n",
    "data = data.drop(columns=[\"Race/Ethnicity\"])\n",
    "\n",
    "data[\"Rheumatoid_arthritis\"] = data[\"Medical Conditions\"].apply(lambda x: 1 if x==\"Rheumatoid Arthritis\" else 0)\n",
    "data[\"Hyperthyroidism\"] = data[\"Medical Conditions\"].apply(lambda x: 1 if x==\"Hyperthyroidism\" else 0)\n",
    "data[\"Healthy\"] = data[\"Medical Conditions\"].apply(lambda x: 1 if x is np.nan else 0)\n",
    "data = data.drop(columns=[\"Medical Conditions\"])"
   ]
  },
  {
   "cell_type": "markdown",
   "id": "0f4ed5c0",
   "metadata": {},
   "source": [
    "# Targets\n",
    "### Our target outputs for prediction\n",
    "### Dataframe with features and output values for each target"
   ]
  },
  {
   "cell_type": "code",
   "execution_count": 3,
   "id": "7d1736f6",
   "metadata": {},
   "outputs": [],
   "source": [
    "TARGETS = [\"RH_ARTH\",\"HYPER\",\"HEALTHY\"]\n",
    "\n",
    "TARGET_DATA = {\"RH_ARTH\": data.drop(columns=[\"Hyperthyroidism\", \"Healthy\"]),\n",
    "\"HYPER\": data.drop(columns=[\"Rheumatoid_arthritis\", \"Healthy\"]),\n",
    "\"HEALTHY\": data.drop(columns=[\"Hyperthyroidism\", \"Rheumatoid_arthritis\"])}\n",
    "\n",
    "PERSON_INPUT_FEATURES = 15"
   ]
  },
  {
   "cell_type": "markdown",
   "id": "12ff2844",
   "metadata": {},
   "source": [
    "# Function to get data for a target in tensor format\n",
    "# Function to train model A with a given target as its output"
   ]
  },
  {
   "cell_type": "code",
   "execution_count": 4,
   "id": "b11d23f1",
   "metadata": {},
   "outputs": [],
   "source": [
    "def get_tensors(out_target):\n",
    "    # Organize train-test split for this target output\n",
    "    X = TARGET_DATA[out_target].iloc[:,:-1].values\n",
    "    y = TARGET_DATA[out_target].iloc[:,-1].values\n",
    "    X_train, X_test, y_train, y_test = train_test_split(X, y, test_size=0.2, random_state=42)\n",
    "\n",
    "    # Standardize features\n",
    "    scaler = StandardScaler()\n",
    "    X_train = scaler.fit_transform(X_train)\n",
    "    X_test = scaler.transform(X_test)\n",
    "\n",
    "    # Convert numpy arrays to PyTorch tensors\n",
    "    X_train_tensor = torch.tensor(X_train, dtype=torch.float32)\n",
    "    X_test_tensor = torch.tensor(X_test, dtype=torch.float32)\n",
    "    y_train_tensor = torch.tensor(y_train, dtype=torch.float32).view(-1, 1)\n",
    "    y_test_tensor = torch.tensor(y_test, dtype=torch.float32).view(-1, 1)\n",
    "    \n",
    "    return X_train_tensor, X_test_tensor, y_train_tensor, y_test_tensor\n",
    "\n",
    "def standard_FF(out_target, model, thr=0.8, INFO=False, SAVE=False):\n",
    "\n",
    "    X_train_tensor, X_test_tensor, y_train_tensor, y_test_tensor = get_tensors(out_target)\n",
    "\n",
    "    loss_f = nn.BCELoss()  # Binary Cross-Entropy Loss\n",
    "    optimizer = torch.optim.Adam(model.parameters(), lr=0.001)  # Adam optimizer\n",
    "\n",
    "    # Train\n",
    "    start = time.perf_counter()\n",
    "    num_epochs = 1000\n",
    "    for epoch in range(num_epochs):\n",
    "        # Forward pass\n",
    "        outputs = model(X_train_tensor)\n",
    "        loss = loss_f(outputs, y_train_tensor)\n",
    "\n",
    "        # Backward pass and optimization\n",
    "        optimizer.zero_grad()\n",
    "        loss.backward()\n",
    "        optimizer.step()\n",
    "    end = time.perf_counter()\n",
    "    train_time = end - start\n",
    "    \n",
    "    if (INFO):\n",
    "\n",
    "        # Evaluate the model\n",
    "        with torch.no_grad():\n",
    "            model.eval()\n",
    "            predicted = model(X_test_tensor)\n",
    "\n",
    "        pred = pd.DataFrame(predicted).applymap(lambda x: 1 if x > 0.8 else 0)\n",
    "        target_y = pd.DataFrame(y_test_tensor.detach().numpy())\n",
    "        acc = np.mean(pred == target_y)\n",
    "        name = str(type(model)).split(\".\")[-1].split(\"\\'\")[0]\n",
    "\n",
    "        print(f\"Predicting {out_target} with {name}:\")\n",
    "        print(f\"Training Time: {train_time}s\")\n",
    "        print(f\"Test Accuracy: {acc}\")\n",
    "        print()\n",
    "        \n",
    "    if (SAVE):\n",
    "        torch.save(model.state_dict(), \"modelA_\"+out_target)"
   ]
  },
  {
   "cell_type": "markdown",
   "id": "3dfb2858",
   "metadata": {},
   "source": [
    "# Model A\n",
    "### With a breakpoint in the forward pass"
   ]
  },
  {
   "cell_type": "code",
   "execution_count": 5,
   "id": "88300606",
   "metadata": {},
   "outputs": [],
   "source": [
    "# Architecture A\n",
    "class netA(nn.Module):\n",
    "    def __init__(self, input_size):\n",
    "        super(netA, self).__init__()\n",
    "        self.fc1 = nn.Linear(input_size, 64)\n",
    "        self.relu = nn.ReLU()\n",
    "        self.fc2 = nn.Linear(64,32)\n",
    "        self.fc3 = nn.Linear(32,1)\n",
    "    \n",
    "    def forward_half1(self, x):\n",
    "        x = torch.sigmoid(self.fc1(x))\n",
    "        x = torch.sigmoid(self.fc2(x))\n",
    "        return x\n",
    "    \n",
    "    def forward_half2(self, x):\n",
    "        x = torch.sigmoid(self.fc3(x))\n",
    "        return x\n",
    "    \n",
    "    def forward(self, x, path='all'):\n",
    "        if path=='all':\n",
    "            x = self.forward_half1(x)\n",
    "            x = self.forward_half2(x)\n",
    "        elif path=='half1':\n",
    "            x = self.forward_half1(x)\n",
    "        elif path=='half2':\n",
    "            x = self.forward_half2(x)\n",
    "        else:\n",
    "            raise NotImplementedError\n",
    "        return x"
   ]
  },
  {
   "cell_type": "markdown",
   "id": "24e1e7eb",
   "metadata": {},
   "source": [
    "# Train model A for all 3 targets\n",
    "### Also save the model that was trained on Rheumatoid Arthritis as the target"
   ]
  },
  {
   "cell_type": "code",
   "execution_count": 6,
   "id": "592c0d9f",
   "metadata": {},
   "outputs": [
    {
     "name": "stdout",
     "output_type": "stream",
     "text": [
      "Predicting RH_ARTH with netA:\n",
      "Training Time: 2.5633572000078857s\n",
      "Test Accuracy: 0.6454081632653061\n",
      "\n",
      "Predicting HYPER with netA:\n",
      "Training Time: 2.68255849997513s\n",
      "Test Accuracy: 0.6964285714285714\n",
      "\n",
      "Predicting HEALTHY with netA:\n",
      "Training Time: 2.5926266000024043s\n",
      "Test Accuracy: 0.6224489795918368\n",
      "\n"
     ]
    }
   ],
   "source": [
    "modelA = netA(input_size=PERSON_INPUT_FEATURES)\n",
    "\n",
    "for t in TARGETS:\n",
    "    standard_FF(t, modelA, INFO=True, SAVE=True)"
   ]
  },
  {
   "cell_type": "markdown",
   "id": "37c83074",
   "metadata": {},
   "source": [
    "# Load a model trained on a given target\n",
    "### As seen in the second cell below, loading in the model we saved is the same as the model that was trained above on Rheumatoid Arthritis"
   ]
  },
  {
   "cell_type": "code",
   "execution_count": 7,
   "id": "a4d2849a",
   "metadata": {},
   "outputs": [],
   "source": [
    "def load_model(out_target):\n",
    "\n",
    "    m = netA(input_size=PERSON_INPUT_FEATURES)\n",
    "    m.load_state_dict(torch.load(\"modelA_\"+out_target))\n",
    "    \n",
    "    return m"
   ]
  },
  {
   "cell_type": "code",
   "execution_count": 8,
   "id": "e390e488",
   "metadata": {},
   "outputs": [
    {
     "name": "stdout",
     "output_type": "stream",
     "text": [
      "Predicting RH_ARTH with netA:\n",
      "Test Accuracy: 0.6454081632653061\n",
      "\n"
     ]
    }
   ],
   "source": [
    "test_target = \"RH_ARTH\"\n",
    "test_loaded_model = load_model(test_target)\n",
    "\n",
    "X_train_tensor, X_test_tensor, y_train_tensor, y_test_tensor = get_tensors(test_target)\n",
    "\n",
    "with torch.no_grad():\n",
    "    test_loaded_model.eval()\n",
    "    predicted = test_loaded_model(X_test_tensor)\n",
    "        \n",
    "pred = pd.DataFrame(predicted).applymap(lambda x: 1 if x > 0.8 else 0)\n",
    "target_y = pd.DataFrame(y_test_tensor.detach().numpy())\n",
    "acc = np.mean(pred == target_y)\n",
    "name = str(type(test_loaded_model)).split(\".\")[-1].split(\"\\'\")[0]\n",
    "\n",
    "print(f\"Predicting {test_target} with {name}:\")\n",
    "print(f\"Test Accuracy: {acc}\")\n",
    "print()"
   ]
  },
  {
   "cell_type": "markdown",
   "id": "50039450",
   "metadata": {},
   "source": [
    "## Now modify the training process with latent features as input"
   ]
  },
  {
   "cell_type": "code",
   "execution_count": 9,
   "id": "740d0976",
   "metadata": {},
   "outputs": [],
   "source": [
    "def latent_FF(out_target, model, latent_features, thr=0.8, INFO=False):\n",
    "\n",
    "    # Organize train-test split for this target output\n",
    "    X = latent_features\n",
    "    y = TARGET_TENSORS[out_target]\n",
    "    X_train, X_test, y_train, y_test = train_test_split(X, y, test_size=0.2, random_state=42)\n",
    "\n",
    "    loss_f = nn.BCELoss()  # Binary Cross-Entropy Loss\n",
    "    optimizer = torch.optim.Adam(model.parameters(), lr=0.001)  # Adam optimizer\n",
    "\n",
    "    # Train\n",
    "    start = time.perf_counter()\n",
    "    num_epochs = 1000\n",
    "    for epoch in range(num_epochs):\n",
    "        # Forward pass\n",
    "        outputs = model(X_train)\n",
    "        loss = loss_f(outputs, y_train)\n",
    "\n",
    "        # Backward pass and optimization\n",
    "        optimizer.zero_grad()\n",
    "        loss.backward()\n",
    "        optimizer.step()\n",
    "    end = time.perf_counter()\n",
    "    train_time = end - start\n",
    "    \n",
    "    if (INFO):\n",
    "\n",
    "        # Evaluate the model\n",
    "        with torch.no_grad():\n",
    "            model.eval()\n",
    "            predicted = model(X_test)\n",
    "\n",
    "        pred = pd.DataFrame(predicted).applymap(lambda x: 1 if x > 0.8 else 0)\n",
    "        target_y = pd.DataFrame(y_test.detach().numpy())\n",
    "        acc = np.mean(pred == target_y)\n",
    "        name = str(type(model)).split(\".\")[-1].split(\"\\'\")[0]\n",
    "\n",
    "        print(f\"Predicting {out_target} with {name}:\")\n",
    "        print(f\"Training Time: {train_time}s\")\n",
    "        print(f\"Test Accuracy: {acc}\")\n",
    "        print()"
   ]
  },
  {
   "cell_type": "markdown",
   "id": "ee71d708",
   "metadata": {},
   "source": [
    "#### Convert all input data into a tensor format"
   ]
  },
  {
   "cell_type": "code",
   "execution_count": 10,
   "id": "645a7c9a",
   "metadata": {},
   "outputs": [],
   "source": [
    "X = data.iloc[:,:-3].values\n",
    "\n",
    "# Standardize features\n",
    "scaler = StandardScaler()\n",
    "X = scaler.fit_transform(X)\n",
    "\n",
    "# Convert numpy arrays to PyTorch tensors\n",
    "X_tensor = torch.tensor(X, dtype=torch.float32)"
   ]
  },
  {
   "cell_type": "markdown",
   "id": "6a2ebe32",
   "metadata": {},
   "source": [
    "#### Convert output data to tensors"
   ]
  },
  {
   "cell_type": "code",
   "execution_count": 11,
   "id": "613029f8",
   "metadata": {},
   "outputs": [],
   "source": [
    "y = data.iloc[:,-3:].to_numpy()\n",
    "\n",
    "TARGET_TENSORS = {\n",
    "    \"RH_ARTH\": torch.tensor(y[:,0], dtype=torch.float32).view(-1, 1),\n",
    "    \"HYPER\": torch.tensor(y[:,0], dtype=torch.float32).view(-1, 1),\n",
    "    \"HEALTHY\": torch.tensor(y[:,0], dtype=torch.float32).view(-1, 1)\n",
    "}"
   ]
  },
  {
   "cell_type": "markdown",
   "id": "8e7e95bf",
   "metadata": {},
   "source": [
    "## Load a given target's trained model (Architecture A)\n",
    "#### Create latent features out of the input data"
   ]
  },
  {
   "cell_type": "code",
   "execution_count": 12,
   "id": "abab2e9e",
   "metadata": {},
   "outputs": [],
   "source": [
    "def get_latent_feats(target):\n",
    "    \n",
    "    target_model = load_model(target)\n",
    "    with torch.no_grad():\n",
    "        target_model.eval()\n",
    "        latent_features = target_model(X_tensor, path='half1')\n",
    "    return latent_features   "
   ]
  },
  {
   "cell_type": "code",
   "execution_count": 13,
   "id": "6d6b3478",
   "metadata": {},
   "outputs": [],
   "source": [
    "# Architecture B\n",
    "class netB(nn.Module):\n",
    "    def __init__(self, input_size):\n",
    "        super(netB, self).__init__()\n",
    "        self.fc1 = nn.Linear(input_size, 1)\n",
    "    \n",
    "    def forward(self, x):\n",
    "        x = torch.sigmoid(self.fc1(x))\n",
    "        return x"
   ]
  },
  {
   "cell_type": "markdown",
   "id": "462447f4",
   "metadata": {},
   "source": [
    "## Train architecture B on the latent features"
   ]
  },
  {
   "cell_type": "code",
   "execution_count": 14,
   "id": "fcb46353",
   "metadata": {},
   "outputs": [
    {
     "name": "stdout",
     "output_type": "stream",
     "text": [
      "Predicting RH_ARTH with netB:\n",
      "Training Time: 0.7738179000443779s\n",
      "Test Accuracy: 0.6326530612244898\n",
      "\n",
      "Predicting HYPER with netB:\n",
      "Training Time: 0.7857378000044264s\n",
      "Test Accuracy: 0.6275510204081632\n",
      "\n",
      "Predicting HEALTHY with netB:\n",
      "Training Time: 0.7776324999867938s\n",
      "Test Accuracy: 0.6301020408163265\n",
      "\n"
     ]
    }
   ],
   "source": [
    "LATENT_FEATURES = 32\n",
    "\n",
    "latent_features = get_latent_feats(\"RH_ARTH\")\n",
    "\n",
    "for t in TARGETS:\n",
    "    modelB = netB(input_size=LATENT_FEATURES)\n",
    "    latent_FF(t, modelB, latent_features, INFO=True)"
   ]
  },
  {
   "cell_type": "code",
   "execution_count": 15,
   "id": "b87da996",
   "metadata": {},
   "outputs": [
    {
     "name": "stdout",
     "output_type": "stream",
     "text": [
      "Predicting RH_ARTH with netB:\n",
      "Training Time: 0.7930209999904037s\n",
      "Test Accuracy: 0.6428571428571429\n",
      "\n",
      "Predicting HYPER with netB:\n",
      "Training Time: 0.7866203999728896s\n",
      "Test Accuracy: 0.6428571428571429\n",
      "\n",
      "Predicting HEALTHY with netB:\n",
      "Training Time: 0.7766406000009738s\n",
      "Test Accuracy: 0.6428571428571429\n",
      "\n"
     ]
    }
   ],
   "source": [
    "LATENT_FEATURES = 32\n",
    "\n",
    "latent_features = get_latent_feats(\"HYPER\")\n",
    "\n",
    "for t in TARGETS:\n",
    "    modelB = netB(input_size=LATENT_FEATURES)\n",
    "    latent_FF(t, modelB, latent_features, INFO=True)"
   ]
  },
  {
   "cell_type": "code",
   "execution_count": 16,
   "id": "9fddc22a",
   "metadata": {},
   "outputs": [
    {
     "name": "stdout",
     "output_type": "stream",
     "text": [
      "Predicting RH_ARTH with netB:\n",
      "Training Time: 0.8013962999684736s\n",
      "Test Accuracy: 0.6428571428571429\n",
      "\n",
      "Predicting HYPER with netB:\n",
      "Training Time: 0.8160816000308841s\n",
      "Test Accuracy: 0.6428571428571429\n",
      "\n",
      "Predicting HEALTHY with netB:\n",
      "Training Time: 0.801421600044705s\n",
      "Test Accuracy: 0.6428571428571429\n",
      "\n"
     ]
    }
   ],
   "source": [
    "LATENT_FEATURES = 32\n",
    "\n",
    "latent_features = get_latent_feats(\"HEALTHY\")\n",
    "\n",
    "for t in TARGETS:\n",
    "    modelB = netB(input_size=LATENT_FEATURES)\n",
    "    latent_FF(t, modelB, latent_features, INFO=True)"
   ]
  }
 ],
 "metadata": {
  "kernelspec": {
   "display_name": "Python 3 (ipykernel)",
   "language": "python",
   "name": "python3"
  },
  "language_info": {
   "codemirror_mode": {
    "name": "ipython",
    "version": 3
   },
   "file_extension": ".py",
   "mimetype": "text/x-python",
   "name": "python",
   "nbconvert_exporter": "python",
   "pygments_lexer": "ipython3",
   "version": "3.11.5"
  }
 },
 "nbformat": 4,
 "nbformat_minor": 5
}
